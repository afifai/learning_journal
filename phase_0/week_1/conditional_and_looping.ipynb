{
  "nbformat": 4,
  "nbformat_minor": 0,
  "metadata": {
    "colab": {
      "name": "conditional_and_looping.ipynb",
      "provenance": [],
      "collapsed_sections": []
    },
    "kernelspec": {
      "name": "python3",
      "display_name": "Python 3"
    },
    "language_info": {
      "name": "python"
    }
  },
  "cells": [
    {
      "cell_type": "markdown",
      "source": [
        "## Conditional"
      ],
      "metadata": {
        "id": "Q4VvBB_3VNd0"
      }
    },
    {
      "cell_type": "code",
      "execution_count": 8,
      "metadata": {
        "colab": {
          "base_uri": "https://localhost:8080/"
        },
        "id": "Kibu-bwsTDz3",
        "outputId": "a16ba1c9-09b6-4d8b-f4be-8ce5c2eedc5d"
      },
      "outputs": [
        {
          "output_type": "stream",
          "name": "stdout",
          "text": [
            "29 lebih besar dari 30\n"
          ]
        }
      ],
      "source": [
        "angka = 29\n",
        "print(f\"{angka} lebih besar dari 30\")"
      ]
    },
    {
      "cell_type": "code",
      "source": [
        "True"
      ],
      "metadata": {
        "colab": {
          "base_uri": "https://localhost:8080/"
        },
        "id": "MmsHM4uFVpIB",
        "outputId": "69aa5c0c-7387-4904-f6ef-5e0858634431"
      },
      "execution_count": 9,
      "outputs": [
        {
          "output_type": "execute_result",
          "data": {
            "text/plain": [
              "True"
            ]
          },
          "metadata": {},
          "execution_count": 9
        }
      ]
    },
    {
      "cell_type": "code",
      "source": [
        "False"
      ],
      "metadata": {
        "colab": {
          "base_uri": "https://localhost:8080/"
        },
        "id": "dNUlQpuyX4Vd",
        "outputId": "2aee8891-e6c3-4850-a8ab-7e8623effc54"
      },
      "execution_count": 10,
      "outputs": [
        {
          "output_type": "execute_result",
          "data": {
            "text/plain": [
              "False"
            ]
          },
          "metadata": {},
          "execution_count": 10
        }
      ]
    },
    {
      "cell_type": "code",
      "source": [
        "angka = 29\n",
        "if False:\n",
        "  print(f\"{angka} lebih besar dari 30\")"
      ],
      "metadata": {
        "id": "_jIMTh3fYBCi"
      },
      "execution_count": 15,
      "outputs": []
    },
    {
      "cell_type": "code",
      "source": [
        "35 > 30"
      ],
      "metadata": {
        "colab": {
          "base_uri": "https://localhost:8080/"
        },
        "id": "Q1-6RkAcYcDd",
        "outputId": "f2b510ab-b4bb-4418-d18e-315feac42f29"
      },
      "execution_count": 17,
      "outputs": [
        {
          "output_type": "execute_result",
          "data": {
            "text/plain": [
              "True"
            ]
          },
          "metadata": {},
          "execution_count": 17
        }
      ]
    },
    {
      "cell_type": "code",
      "source": [
        "angka = 35\n",
        "if angka > 30:\n",
        "  print(f\"{angka} lebih besar dari 30\")\n",
        "else:\n",
        "  print(f\"{angka} lebih kecil dari 30\")"
      ],
      "metadata": {
        "colab": {
          "base_uri": "https://localhost:8080/"
        },
        "id": "GApBm1-_ZGUx",
        "outputId": "7a318173-79bb-48da-865c-6b1aa0fc3a93"
      },
      "execution_count": 22,
      "outputs": [
        {
          "output_type": "stream",
          "name": "stdout",
          "text": [
            "35 lebih besar dari 30\n"
          ]
        }
      ]
    },
    {
      "cell_type": "markdown",
      "source": [
        "cek apakah angka yang berada di variabel `angka` adalah bilangan ganjil / genap ?"
      ],
      "metadata": {
        "id": "YLgtefR9aO3b"
      }
    },
    {
      "cell_type": "code",
      "source": [
        "angka = 15\n",
        "\n",
        "if angka%2 != 0 :\n",
        "  print(f\"{angka} adalah bilangan ganjil\")\n",
        "else:\n",
        "  print(f\"{angka} adalah bilangan genap\")"
      ],
      "metadata": {
        "colab": {
          "base_uri": "https://localhost:8080/"
        },
        "id": "AxwMQlbSZX8t",
        "outputId": "23c62084-2a93-41a2-b7d8-cbc277264691"
      },
      "execution_count": 26,
      "outputs": [
        {
          "output_type": "stream",
          "name": "stdout",
          "text": [
            "15 adalah bilangan ganjil\n"
          ]
        }
      ]
    },
    {
      "cell_type": "code",
      "source": [
        "a = 5"
      ],
      "metadata": {
        "id": "7iV_wMcmbSQz"
      },
      "execution_count": 27,
      "outputs": []
    },
    {
      "cell_type": "code",
      "source": [
        "a == 5"
      ],
      "metadata": {
        "colab": {
          "base_uri": "https://localhost:8080/"
        },
        "id": "2I5FDG32bqaI",
        "outputId": "00fc8883-5e4b-4882-86ea-7f304e5ae80b"
      },
      "execution_count": 28,
      "outputs": [
        {
          "output_type": "execute_result",
          "data": {
            "text/plain": [
              "True"
            ]
          },
          "metadata": {},
          "execution_count": 28
        }
      ]
    },
    {
      "cell_type": "code",
      "source": [
        "bahasa_pemrograman = [\"python\", \"java\", \"javascript\", \"golang\"]\n",
        "bahasa = \"python\"\n",
        "\n",
        "if bahasa in bahasa_pemrograman:\n",
        "  print(f\"{bahasa} ada dalam list bahasa_pemrograman\")\n",
        "else:\n",
        "  print(f\"{bahasa} tidak ada dalam list bahasa_pemrograman\")"
      ],
      "metadata": {
        "colab": {
          "base_uri": "https://localhost:8080/"
        },
        "id": "1wpRA_W3bsy4",
        "outputId": "d49e8741-9fb7-45e7-9675-325d94466211"
      },
      "execution_count": 31,
      "outputs": [
        {
          "output_type": "stream",
          "name": "stdout",
          "text": [
            "python ada dalam list bahasa_pemrograman\n"
          ]
        }
      ]
    },
    {
      "cell_type": "code",
      "source": [
        "angka = 35\n",
        "if angka > 30:\n",
        "  print(f\"{angka} lebih besar dari 30\")\n",
        "elif angka == 30:\n",
        "  print(f\"{angka} sama dengan 30\")\n",
        "else:\n",
        "  print(f\"{angka} lebih kecil dari 30\")"
      ],
      "metadata": {
        "colab": {
          "base_uri": "https://localhost:8080/"
        },
        "id": "YZS4umrecfbY",
        "outputId": "3edc0025-a2c4-4dea-f2d3-052ca02eea59"
      },
      "execution_count": 38,
      "outputs": [
        {
          "output_type": "stream",
          "name": "stdout",
          "text": [
            "35 lebih besar dari 30\n"
          ]
        }
      ]
    },
    {
      "cell_type": "code",
      "source": [
        "biodata = {'nama': 'Afif', 'pekerjaan':'Data Scientist', 'usia': 20}\n",
        "'usia' in biodata"
      ],
      "metadata": {
        "colab": {
          "base_uri": "https://localhost:8080/"
        },
        "id": "aj7cXn-rc-3r",
        "outputId": "7062b3b1-9f30-4f3e-806e-91356dfb3616"
      },
      "execution_count": 40,
      "outputs": [
        {
          "output_type": "execute_result",
          "data": {
            "text/plain": [
              "True"
            ]
          },
          "metadata": {},
          "execution_count": 40
        }
      ]
    },
    {
      "cell_type": "code",
      "source": [
        "'Afif' in biodata.values()"
      ],
      "metadata": {
        "colab": {
          "base_uri": "https://localhost:8080/"
        },
        "id": "ZFaY43hJfKXz",
        "outputId": "cfb4068f-caa0-4ff3-fa9f-87119b3435f1"
      },
      "execution_count": 43,
      "outputs": [
        {
          "output_type": "execute_result",
          "data": {
            "text/plain": [
              "True"
            ]
          },
          "metadata": {},
          "execution_count": 43
        }
      ]
    },
    {
      "cell_type": "code",
      "source": [
        "angka = 35\n",
        "if angka > 30:\n",
        "  print(f\"{angka} lebih besar dari 30\")\n",
        "elif angka == 30:\n",
        "  print(f\"{angka} sama dengan 30\")\n",
        "else:\n",
        "  print(f\"{angka} lebih kecil dari 30\")"
      ],
      "metadata": {
        "colab": {
          "base_uri": "https://localhost:8080/"
        },
        "id": "_fwlqu7EfbMu",
        "outputId": "95e7dbf7-293b-460d-a853-b4f5710adfae"
      },
      "execution_count": 49,
      "outputs": [
        {
          "output_type": "stream",
          "name": "stdout",
          "text": [
            "35 lebih besar dari 30\n"
          ]
        }
      ]
    },
    {
      "cell_type": "markdown",
      "source": [
        "##### Nested IF"
      ],
      "metadata": {
        "id": "FfFXsA5ZhAa4"
      }
    },
    {
      "cell_type": "code",
      "source": [
        "angka = 16\n",
        "\n",
        "if angka%2 != 0 :\n",
        "  print(f\"{angka} adalah bilangan ganjil\")\n",
        "  if angka > 10:\n",
        "    print(f\"{angka} lebih besar dari 10\")\n",
        "  else:\n",
        "    print(f\"{angka} lebih kecil dari 10\")\n",
        "else:\n",
        "  print(f\"{angka} adalah bilangan genap\")"
      ],
      "metadata": {
        "colab": {
          "base_uri": "https://localhost:8080/"
        },
        "id": "dtCw3qebfy2G",
        "outputId": "25f08f00-c54a-4ccd-bfef-d43010eb8637"
      },
      "execution_count": 52,
      "outputs": [
        {
          "output_type": "stream",
          "name": "stdout",
          "text": [
            "16 adalah bilangan genap\n"
          ]
        }
      ]
    },
    {
      "cell_type": "code",
      "source": [
        "# [85 - 100] : A\n",
        "# [70 - 85) : B\n",
        "# [50 - 70) : C\n",
        "# [25 - 50) : D\n",
        "# [0 - 25) : E"
      ],
      "metadata": {
        "id": "5vngAgkygsvS"
      },
      "execution_count": null,
      "outputs": []
    },
    {
      "cell_type": "code",
      "source": [
        "nilai = -3\n",
        "if nilai>= 85:\n",
        "    print('Anda mendapat indeks A')\n",
        "elif 70<=nilai<85:\n",
        "    print('Anda mendapat indeks B')\n",
        "elif 50<=nilai<70:\n",
        "    print('anda mendapat indeks C')\n",
        "elif 25<=nilai<50:\n",
        "    print('anda mendapat indeks D')\n",
        "else:\n",
        "    print('anda mendapat indeks E')\n"
      ],
      "metadata": {
        "colab": {
          "base_uri": "https://localhost:8080/"
        },
        "id": "-qyyEZq6jJeV",
        "outputId": "981be5bd-0e42-4c1c-ed51-6abd3c5eccd0"
      },
      "execution_count": 55,
      "outputs": [
        {
          "output_type": "stream",
          "name": "stdout",
          "text": [
            "anda mendapat indeks E\n"
          ]
        }
      ]
    },
    {
      "cell_type": "code",
      "source": [
        "score = -4\n",
        "if 85 <= score <= 100:\n",
        "    result = 'A'\n",
        "elif 70 <= score < 85:\n",
        "    result = 'B'\n",
        "elif 50 <= score < 70:\n",
        "    result = 'C'\n",
        "elif 25 <= score < 50:\n",
        "    result = 'D'\n",
        "elif 0 <= score < 25:\n",
        "    result = 'E'\n",
        "\n",
        "print(result)\n"
      ],
      "metadata": {
        "colab": {
          "base_uri": "https://localhost:8080/",
          "height": 204
        },
        "id": "wkf203t6jLqm",
        "outputId": "72564bbb-5491-4a11-e381-25a94863429f"
      },
      "execution_count": 57,
      "outputs": [
        {
          "output_type": "error",
          "ename": "NameError",
          "evalue": "ignored",
          "traceback": [
            "\u001b[0;31m---------------------------------------------------------------------------\u001b[0m",
            "\u001b[0;31mNameError\u001b[0m                                 Traceback (most recent call last)",
            "\u001b[0;32m<ipython-input-57-dc50842b5116>\u001b[0m in \u001b[0;36m<module>\u001b[0;34m()\u001b[0m\n\u001b[1;32m     11\u001b[0m     \u001b[0mresult\u001b[0m \u001b[0;34m=\u001b[0m \u001b[0;34m'E'\u001b[0m\u001b[0;34m\u001b[0m\u001b[0;34m\u001b[0m\u001b[0m\n\u001b[1;32m     12\u001b[0m \u001b[0;34m\u001b[0m\u001b[0m\n\u001b[0;32m---> 13\u001b[0;31m \u001b[0mprint\u001b[0m\u001b[0;34m(\u001b[0m\u001b[0mresult\u001b[0m\u001b[0;34m)\u001b[0m\u001b[0;34m\u001b[0m\u001b[0;34m\u001b[0m\u001b[0m\n\u001b[0m",
            "\u001b[0;31mNameError\u001b[0m: name 'result' is not defined"
          ]
        }
      ]
    },
    {
      "cell_type": "code",
      "source": [
        "nilai = 105\n",
        "if 85 <= nilai <=100:\n",
        "  print(f'{nilai} memiliki indeks A')\n",
        "elif 70 <= nilai < 85:\n",
        "  print(f'{nilai} memiliki indeks B')\n",
        "elif 50 <= nilai < 70:\n",
        "  print(f'{nilai} memiliki indeks C')\n",
        "elif 25 <= nilai < 50:\n",
        "  print(f'{nilai} memiliki indeks D')\n",
        "else:\n",
        "  print(f'{nilai} memiliki indeks E')\n"
      ],
      "metadata": {
        "colab": {
          "base_uri": "https://localhost:8080/"
        },
        "id": "zWmCiT6cjl-e",
        "outputId": "2abda271-623e-428a-f16d-38fd8d2a06d8"
      },
      "execution_count": 58,
      "outputs": [
        {
          "output_type": "stream",
          "name": "stdout",
          "text": [
            "105 memiliki indeks E\n"
          ]
        }
      ]
    },
    {
      "cell_type": "code",
      "source": [
        "nilai = -5\n",
        "\n",
        "if nilai <= 100 and nilai >= 85:\n",
        "    print(\"A\")\n",
        "elif nilai < 85 and nilai >= 70:\n",
        "    print(\"B\")\n",
        "elif nilai < 70 and nilai >= 50:\n",
        "    print(\"C\")\n",
        "elif nilai < 50 and nilai >= 25:\n",
        "    print(\"D\")\n",
        "elif nilai < 25 and nilai >= 0:\n",
        "    print(\"E\")\n",
        "else:\n",
        "    print(\"nilai melebihi range\")\n"
      ],
      "metadata": {
        "colab": {
          "base_uri": "https://localhost:8080/"
        },
        "id": "m23h6xCnj4qd",
        "outputId": "616ff066-02e1-422f-8d66-b5a9a08e3df2"
      },
      "execution_count": 59,
      "outputs": [
        {
          "output_type": "stream",
          "name": "stdout",
          "text": [
            "nilai melebihi range\n"
          ]
        }
      ]
    },
    {
      "cell_type": "code",
      "source": [
        "angka = 103\n",
        "if 0 <= angka <= 100:\n",
        "  if angka >= 85:\n",
        "    print(\"A\")\n",
        "  elif angka >= 70:\n",
        "    print(\"B\")\n",
        "  elif angka >= 50:\n",
        "    print(\"C\")\n",
        "  elif angka >= 25:\n",
        "    print(\"D\")\n",
        "  else:\n",
        "    print(\"E\")\n",
        "else:\n",
        "  print(\"Nilai tidak valid\")"
      ],
      "metadata": {
        "colab": {
          "base_uri": "https://localhost:8080/"
        },
        "id": "1bDDiso6kQcB",
        "outputId": "f2ddc01f-795d-4511-9626-dcd37815c450"
      },
      "execution_count": 62,
      "outputs": [
        {
          "output_type": "stream",
          "name": "stdout",
          "text": [
            "Nilai tidak valid\n"
          ]
        }
      ]
    },
    {
      "cell_type": "code",
      "source": [
        "list(range(85, 100))"
      ],
      "metadata": {
        "colab": {
          "base_uri": "https://localhost:8080/"
        },
        "id": "BMtBJdWfk-MW",
        "outputId": "4133a347-b653-4dc8-b092-a385116266f0"
      },
      "execution_count": 64,
      "outputs": [
        {
          "output_type": "execute_result",
          "data": {
            "text/plain": [
              "[85, 86, 87, 88, 89, 90, 91, 92, 93, 94, 95, 96, 97, 98, 99]"
            ]
          },
          "metadata": {},
          "execution_count": 64
        }
      ]
    },
    {
      "cell_type": "code",
      "source": [
        "87.5 in range(85, 100)"
      ],
      "metadata": {
        "colab": {
          "base_uri": "https://localhost:8080/"
        },
        "id": "kqZSBrk2l2a4",
        "outputId": "50461f82-0284-4ba0-b22a-178d4acb4cc1"
      },
      "execution_count": 66,
      "outputs": [
        {
          "output_type": "execute_result",
          "data": {
            "text/plain": [
              "False"
            ]
          },
          "metadata": {},
          "execution_count": 66
        }
      ]
    },
    {
      "cell_type": "markdown",
      "source": [
        "#### Looping"
      ],
      "metadata": {
        "id": "3iSFjz74mlDY"
      }
    },
    {
      "cell_type": "code",
      "source": [
        "angka = 1"
      ],
      "metadata": {
        "id": "wIkq0R4lnG8Y"
      },
      "execution_count": 70,
      "outputs": []
    },
    {
      "cell_type": "code",
      "source": [
        "angka = 2\n",
        "print(angka)"
      ],
      "metadata": {
        "colab": {
          "base_uri": "https://localhost:8080/"
        },
        "id": "iAbG4AD8noAV",
        "outputId": "d3a2fd9f-a15a-41fa-964c-8f74fa4bc8db"
      },
      "execution_count": 71,
      "outputs": [
        {
          "output_type": "stream",
          "name": "stdout",
          "text": [
            "2\n"
          ]
        }
      ]
    },
    {
      "cell_type": "code",
      "source": [
        "angka = 3\n",
        "print(angka)"
      ],
      "metadata": {
        "colab": {
          "base_uri": "https://localhost:8080/"
        },
        "id": "0RgMVlnKnrE2",
        "outputId": "132fd9f3-9d18-480f-e156-f59252402213"
      },
      "execution_count": 72,
      "outputs": [
        {
          "output_type": "stream",
          "name": "stdout",
          "text": [
            "3\n"
          ]
        }
      ]
    },
    {
      "cell_type": "code",
      "source": [
        "angka = angka + 1\n",
        "print(angka)"
      ],
      "metadata": {
        "colab": {
          "base_uri": "https://localhost:8080/"
        },
        "id": "4bWTvsU2nslc",
        "outputId": "03713297-02e2-4762-b25b-814e391855f2"
      },
      "execution_count": 77,
      "outputs": [
        {
          "output_type": "stream",
          "name": "stdout",
          "text": [
            "7\n"
          ]
        }
      ]
    },
    {
      "cell_type": "code",
      "source": [
        "i = 0\n",
        "while i < 5:\n",
        "  i = i + 1\n",
        "  print(f\"i={i}, dalam while loop\")\n",
        "  "
      ],
      "metadata": {
        "colab": {
          "base_uri": "https://localhost:8080/"
        },
        "id": "9RfnJju5n7ic",
        "outputId": "dd76552f-5ebf-4036-8453-c6b0f93e9ce7"
      },
      "execution_count": 79,
      "outputs": [
        {
          "output_type": "stream",
          "name": "stdout",
          "text": [
            "i=1, dalam while loop\n",
            "i=2, dalam while loop\n",
            "i=3, dalam while loop\n",
            "i=4, dalam while loop\n",
            "i=5, dalam while loop\n"
          ]
        }
      ]
    },
    {
      "cell_type": "code",
      "source": [
        "i = 1\n",
        "while i <= 10:\n",
        "  print(f\"7 x {i} = {7*i}\")\n",
        "  i += 1 # i = i + 1"
      ],
      "metadata": {
        "colab": {
          "base_uri": "https://localhost:8080/"
        },
        "id": "IYv0nWnroZtg",
        "outputId": "ecb4d472-96d4-4d14-9a85-c3ded5fdd72a"
      },
      "execution_count": 80,
      "outputs": [
        {
          "output_type": "stream",
          "name": "stdout",
          "text": [
            "7 x 1 = 7\n",
            "7 x 2 = 14\n",
            "7 x 3 = 21\n",
            "7 x 4 = 28\n",
            "7 x 5 = 35\n",
            "7 x 6 = 42\n",
            "7 x 7 = 49\n",
            "7 x 8 = 56\n",
            "7 x 9 = 63\n",
            "7 x 10 = 70\n"
          ]
        }
      ]
    },
    {
      "cell_type": "code",
      "source": [
        "# nested loop (tabel perkalian)\n",
        "\n",
        "i = 1\n",
        "j = 1\n",
        "\n",
        "while j <= 10:\n",
        "  i = 1\n",
        "  while i <= 10:\n",
        "    print(f\"{j} x {i} = {j*i}\")\n",
        "    i += 1\n",
        "  print(\"*\"*50)\n",
        "  j += 1"
      ],
      "metadata": {
        "colab": {
          "base_uri": "https://localhost:8080/"
        },
        "id": "lWWKb9NJqnML",
        "outputId": "a0849982-05c9-4ac1-ad2e-1bea1690041e"
      },
      "execution_count": 82,
      "outputs": [
        {
          "output_type": "stream",
          "name": "stdout",
          "text": [
            "1 x 1 = 1\n",
            "1 x 2 = 2\n",
            "1 x 3 = 3\n",
            "1 x 4 = 4\n",
            "1 x 5 = 5\n",
            "1 x 6 = 6\n",
            "1 x 7 = 7\n",
            "1 x 8 = 8\n",
            "1 x 9 = 9\n",
            "1 x 10 = 10\n",
            "**************************************************\n",
            "2 x 1 = 2\n",
            "2 x 2 = 4\n",
            "2 x 3 = 6\n",
            "2 x 4 = 8\n",
            "2 x 5 = 10\n",
            "2 x 6 = 12\n",
            "2 x 7 = 14\n",
            "2 x 8 = 16\n",
            "2 x 9 = 18\n",
            "2 x 10 = 20\n",
            "**************************************************\n",
            "3 x 1 = 3\n",
            "3 x 2 = 6\n",
            "3 x 3 = 9\n",
            "3 x 4 = 12\n",
            "3 x 5 = 15\n",
            "3 x 6 = 18\n",
            "3 x 7 = 21\n",
            "3 x 8 = 24\n",
            "3 x 9 = 27\n",
            "3 x 10 = 30\n",
            "**************************************************\n",
            "4 x 1 = 4\n",
            "4 x 2 = 8\n",
            "4 x 3 = 12\n",
            "4 x 4 = 16\n",
            "4 x 5 = 20\n",
            "4 x 6 = 24\n",
            "4 x 7 = 28\n",
            "4 x 8 = 32\n",
            "4 x 9 = 36\n",
            "4 x 10 = 40\n",
            "**************************************************\n",
            "5 x 1 = 5\n",
            "5 x 2 = 10\n",
            "5 x 3 = 15\n",
            "5 x 4 = 20\n",
            "5 x 5 = 25\n",
            "5 x 6 = 30\n",
            "5 x 7 = 35\n",
            "5 x 8 = 40\n",
            "5 x 9 = 45\n",
            "5 x 10 = 50\n",
            "**************************************************\n",
            "6 x 1 = 6\n",
            "6 x 2 = 12\n",
            "6 x 3 = 18\n",
            "6 x 4 = 24\n",
            "6 x 5 = 30\n",
            "6 x 6 = 36\n",
            "6 x 7 = 42\n",
            "6 x 8 = 48\n",
            "6 x 9 = 54\n",
            "6 x 10 = 60\n",
            "**************************************************\n",
            "7 x 1 = 7\n",
            "7 x 2 = 14\n",
            "7 x 3 = 21\n",
            "7 x 4 = 28\n",
            "7 x 5 = 35\n",
            "7 x 6 = 42\n",
            "7 x 7 = 49\n",
            "7 x 8 = 56\n",
            "7 x 9 = 63\n",
            "7 x 10 = 70\n",
            "**************************************************\n",
            "8 x 1 = 8\n",
            "8 x 2 = 16\n",
            "8 x 3 = 24\n",
            "8 x 4 = 32\n",
            "8 x 5 = 40\n",
            "8 x 6 = 48\n",
            "8 x 7 = 56\n",
            "8 x 8 = 64\n",
            "8 x 9 = 72\n",
            "8 x 10 = 80\n",
            "**************************************************\n",
            "9 x 1 = 9\n",
            "9 x 2 = 18\n",
            "9 x 3 = 27\n",
            "9 x 4 = 36\n",
            "9 x 5 = 45\n",
            "9 x 6 = 54\n",
            "9 x 7 = 63\n",
            "9 x 8 = 72\n",
            "9 x 9 = 81\n",
            "9 x 10 = 90\n",
            "**************************************************\n",
            "10 x 1 = 10\n",
            "10 x 2 = 20\n",
            "10 x 3 = 30\n",
            "10 x 4 = 40\n",
            "10 x 5 = 50\n",
            "10 x 6 = 60\n",
            "10 x 7 = 70\n",
            "10 x 8 = 80\n",
            "10 x 9 = 90\n",
            "10 x 10 = 100\n",
            "**************************************************\n"
          ]
        }
      ]
    },
    {
      "cell_type": "code",
      "source": [
        "# break\n",
        "\n",
        "i = 1\n",
        "while i <= 10:\n",
        "  print(f\"7 x {i} = {7*i}\")\n",
        "  i += 1 \n",
        "  if i == 5:\n",
        "    break"
      ],
      "metadata": {
        "colab": {
          "base_uri": "https://localhost:8080/"
        },
        "id": "k1ZgQQTLsCgO",
        "outputId": "f4f078ff-a2ad-4e76-a981-35f398217372"
      },
      "execution_count": 83,
      "outputs": [
        {
          "output_type": "stream",
          "name": "stdout",
          "text": [
            "7 x 1 = 7\n",
            "7 x 2 = 14\n",
            "7 x 3 = 21\n",
            "7 x 4 = 28\n"
          ]
        }
      ]
    },
    {
      "cell_type": "code",
      "source": [
        "pesanan = []\n",
        "while True:\n",
        "  pesan = input(\"Masukkan Pesanan Anda : \")\n",
        "  if pesan == 'cukup':\n",
        "    break\n",
        "  pesanan.append(pesan)\n",
        "print(pesanan)"
      ],
      "metadata": {
        "colab": {
          "base_uri": "https://localhost:8080/"
        },
        "id": "zspv3puztuNv",
        "outputId": "0cf1697b-bb39-4c8c-e0dc-3df6a7884491"
      },
      "execution_count": 85,
      "outputs": [
        {
          "output_type": "stream",
          "name": "stdout",
          "text": [
            "Masukkan Pesanan Anda : mie ayam\n",
            "Masukkan Pesanan Anda : nasi goreng\n",
            "Masukkan Pesanan Anda : mie goreng\n",
            "Masukkan Pesanan Anda : es jeruk\n",
            "Masukkan Pesanan Anda : cukup\n",
            "['mie ayam', 'nasi goreng', 'mie goreng', 'es jeruk']\n"
          ]
        }
      ]
    },
    {
      "cell_type": "code",
      "source": [
        "# continue\n",
        "\n",
        "i = 0\n",
        "while i <= 10:\n",
        "  i += 1 \n",
        "  if i == 5:\n",
        "    continue\n",
        "  print(f\"7 x {i} = {7*i}\")\n",
        "  \n",
        "  "
      ],
      "metadata": {
        "colab": {
          "base_uri": "https://localhost:8080/"
        },
        "id": "cC9Vao4auhBi",
        "outputId": "2e3e109b-5667-433f-bbbd-50c70bd99b2e"
      },
      "execution_count": 91,
      "outputs": [
        {
          "output_type": "stream",
          "name": "stdout",
          "text": [
            "7 x 1 = 7\n",
            "7 x 2 = 14\n",
            "7 x 3 = 21\n",
            "7 x 4 = 28\n",
            "7 x 6 = 42\n",
            "7 x 7 = 49\n",
            "7 x 8 = 56\n",
            "7 x 9 = 63\n",
            "7 x 10 = 70\n",
            "7 x 11 = 77\n"
          ]
        }
      ]
    },
    {
      "cell_type": "markdown",
      "source": [
        "### For Loop"
      ],
      "metadata": {
        "id": "VsVoEkGWvp7C"
      }
    },
    {
      "cell_type": "code",
      "source": [
        "buah = [\"pepaya\", \"mangga\", \"pisang\", \"jambu\"]\n",
        "for b in buah:\n",
        "  print(f\"{b} adalah item dalam list buah\")"
      ],
      "metadata": {
        "colab": {
          "base_uri": "https://localhost:8080/"
        },
        "id": "U2oxqQgCuwdO",
        "outputId": "3205bf96-a906-4898-b7a4-dce03e6606ad"
      },
      "execution_count": 94,
      "outputs": [
        {
          "output_type": "stream",
          "name": "stdout",
          "text": [
            "pepaya adalah item dalam list buah\n",
            "mangga adalah item dalam list buah\n",
            "pisang adalah item dalam list buah\n",
            "jambu adalah item dalam list buah\n"
          ]
        }
      ]
    },
    {
      "cell_type": "code",
      "source": [
        "i = 0 \n",
        "buah = [\"pepaya\", \"mangga\", \"pisang\", \"jambu\", \"apel\"]\n",
        "while i < len(buah):\n",
        "  print(f\"{buah[i]} adalah item dalam list buah\")\n",
        "  i += 1"
      ],
      "metadata": {
        "colab": {
          "base_uri": "https://localhost:8080/"
        },
        "id": "KAUPBurPv1U9",
        "outputId": "b5e6d4a5-b4c4-4c7c-dcf9-22602e909f41"
      },
      "execution_count": 104,
      "outputs": [
        {
          "output_type": "stream",
          "name": "stdout",
          "text": [
            "pepaya adalah item dalam list buah\n",
            "mangga adalah item dalam list buah\n",
            "pisang adalah item dalam list buah\n",
            "jambu adalah item dalam list buah\n",
            "apel adalah item dalam list buah\n"
          ]
        }
      ]
    },
    {
      "cell_type": "code",
      "source": [
        "for i in range(len(buah)):\n",
        "  print(f\"{buah[i]} adalah item dalam list buah\")"
      ],
      "metadata": {
        "colab": {
          "base_uri": "https://localhost:8080/"
        },
        "id": "wucrFEl3w9EE",
        "outputId": "1466f4ea-4c65-42ff-b9e2-6f9dc73521d4"
      },
      "execution_count": 103,
      "outputs": [
        {
          "output_type": "stream",
          "name": "stdout",
          "text": [
            "pepaya adalah item dalam list buah\n",
            "mangga adalah item dalam list buah\n",
            "pisang adalah item dalam list buah\n",
            "jambu adalah item dalam list buah\n",
            "apel adalah item dalam list buah\n"
          ]
        }
      ]
    },
    {
      "cell_type": "code",
      "source": [
        "list(range(1, 11))"
      ],
      "metadata": {
        "colab": {
          "base_uri": "https://localhost:8080/"
        },
        "id": "vSpqRf3NyJzq",
        "outputId": "e1bc28b5-3bb1-4f9a-d0e1-577812304b5d"
      },
      "execution_count": 107,
      "outputs": [
        {
          "output_type": "execute_result",
          "data": {
            "text/plain": [
              "[1, 2, 3, 4, 5, 6, 7, 8, 9, 10]"
            ]
          },
          "metadata": {},
          "execution_count": 107
        }
      ]
    },
    {
      "cell_type": "code",
      "source": [
        "# tabel perkalian 7\n",
        "\n",
        "for i in range(1, 11):\n",
        "  print(f\"7 x {i} = {7*i}\")\n"
      ],
      "metadata": {
        "colab": {
          "base_uri": "https://localhost:8080/"
        },
        "id": "LT_oLavKxhkt",
        "outputId": "14e50ded-da01-4ab0-b993-c6d2d3cd5a18"
      },
      "execution_count": 108,
      "outputs": [
        {
          "output_type": "stream",
          "name": "stdout",
          "text": [
            "7 x 1 = 7\n",
            "7 x 2 = 14\n",
            "7 x 3 = 21\n",
            "7 x 4 = 28\n",
            "7 x 5 = 35\n",
            "7 x 6 = 42\n",
            "7 x 7 = 49\n",
            "7 x 8 = 56\n",
            "7 x 9 = 63\n",
            "7 x 10 = 70\n"
          ]
        }
      ]
    },
    {
      "cell_type": "code",
      "source": [
        "for j in range(1, 11):\n",
        "  for i in range(1, 11):\n",
        "    print(f\"{j} x {i} = {j*i}\")\n",
        "  print(\"*\"*50)"
      ],
      "metadata": {
        "colab": {
          "base_uri": "https://localhost:8080/"
        },
        "id": "rJcp0Ou4yclH",
        "outputId": "b8c58f78-a4d2-4c3f-96eb-2e45510b455a"
      },
      "execution_count": 109,
      "outputs": [
        {
          "output_type": "stream",
          "name": "stdout",
          "text": [
            "1 x 1 = 1\n",
            "1 x 2 = 2\n",
            "1 x 3 = 3\n",
            "1 x 4 = 4\n",
            "1 x 5 = 5\n",
            "1 x 6 = 6\n",
            "1 x 7 = 7\n",
            "1 x 8 = 8\n",
            "1 x 9 = 9\n",
            "1 x 10 = 10\n",
            "**************************************************\n",
            "2 x 1 = 2\n",
            "2 x 2 = 4\n",
            "2 x 3 = 6\n",
            "2 x 4 = 8\n",
            "2 x 5 = 10\n",
            "2 x 6 = 12\n",
            "2 x 7 = 14\n",
            "2 x 8 = 16\n",
            "2 x 9 = 18\n",
            "2 x 10 = 20\n",
            "**************************************************\n",
            "3 x 1 = 3\n",
            "3 x 2 = 6\n",
            "3 x 3 = 9\n",
            "3 x 4 = 12\n",
            "3 x 5 = 15\n",
            "3 x 6 = 18\n",
            "3 x 7 = 21\n",
            "3 x 8 = 24\n",
            "3 x 9 = 27\n",
            "3 x 10 = 30\n",
            "**************************************************\n",
            "4 x 1 = 4\n",
            "4 x 2 = 8\n",
            "4 x 3 = 12\n",
            "4 x 4 = 16\n",
            "4 x 5 = 20\n",
            "4 x 6 = 24\n",
            "4 x 7 = 28\n",
            "4 x 8 = 32\n",
            "4 x 9 = 36\n",
            "4 x 10 = 40\n",
            "**************************************************\n",
            "5 x 1 = 5\n",
            "5 x 2 = 10\n",
            "5 x 3 = 15\n",
            "5 x 4 = 20\n",
            "5 x 5 = 25\n",
            "5 x 6 = 30\n",
            "5 x 7 = 35\n",
            "5 x 8 = 40\n",
            "5 x 9 = 45\n",
            "5 x 10 = 50\n",
            "**************************************************\n",
            "6 x 1 = 6\n",
            "6 x 2 = 12\n",
            "6 x 3 = 18\n",
            "6 x 4 = 24\n",
            "6 x 5 = 30\n",
            "6 x 6 = 36\n",
            "6 x 7 = 42\n",
            "6 x 8 = 48\n",
            "6 x 9 = 54\n",
            "6 x 10 = 60\n",
            "**************************************************\n",
            "7 x 1 = 7\n",
            "7 x 2 = 14\n",
            "7 x 3 = 21\n",
            "7 x 4 = 28\n",
            "7 x 5 = 35\n",
            "7 x 6 = 42\n",
            "7 x 7 = 49\n",
            "7 x 8 = 56\n",
            "7 x 9 = 63\n",
            "7 x 10 = 70\n",
            "**************************************************\n",
            "8 x 1 = 8\n",
            "8 x 2 = 16\n",
            "8 x 3 = 24\n",
            "8 x 4 = 32\n",
            "8 x 5 = 40\n",
            "8 x 6 = 48\n",
            "8 x 7 = 56\n",
            "8 x 8 = 64\n",
            "8 x 9 = 72\n",
            "8 x 10 = 80\n",
            "**************************************************\n",
            "9 x 1 = 9\n",
            "9 x 2 = 18\n",
            "9 x 3 = 27\n",
            "9 x 4 = 36\n",
            "9 x 5 = 45\n",
            "9 x 6 = 54\n",
            "9 x 7 = 63\n",
            "9 x 8 = 72\n",
            "9 x 9 = 81\n",
            "9 x 10 = 90\n",
            "**************************************************\n",
            "10 x 1 = 10\n",
            "10 x 2 = 20\n",
            "10 x 3 = 30\n",
            "10 x 4 = 40\n",
            "10 x 5 = 50\n",
            "10 x 6 = 60\n",
            "10 x 7 = 70\n",
            "10 x 8 = 80\n",
            "10 x 9 = 90\n",
            "10 x 10 = 100\n",
            "**************************************************\n"
          ]
        }
      ]
    },
    {
      "cell_type": "code",
      "source": [
        "for i in range(1, 11):\n",
        "  if i == 5:\n",
        "    break\n",
        "  print(f\"7 x {i} = {7*i}\")\n",
        "  "
      ],
      "metadata": {
        "colab": {
          "base_uri": "https://localhost:8080/"
        },
        "id": "zJ01AJDRytwL",
        "outputId": "e9eedd09-1c5c-46f8-9a92-8af05e0fc041"
      },
      "execution_count": 110,
      "outputs": [
        {
          "output_type": "stream",
          "name": "stdout",
          "text": [
            "7 x 1 = 7\n",
            "7 x 2 = 14\n",
            "7 x 3 = 21\n",
            "7 x 4 = 28\n"
          ]
        }
      ]
    },
    {
      "cell_type": "code",
      "source": [
        "for i in range(1, 11):\n",
        "  if i == 5:\n",
        "    continue\n",
        "  print(f\"7 x {i} = {7*i}\")"
      ],
      "metadata": {
        "colab": {
          "base_uri": "https://localhost:8080/"
        },
        "id": "_7aiwsPozP5r",
        "outputId": "28964b6a-e074-4800-f72a-598228e1de54"
      },
      "execution_count": 111,
      "outputs": [
        {
          "output_type": "stream",
          "name": "stdout",
          "text": [
            "7 x 1 = 7\n",
            "7 x 2 = 14\n",
            "7 x 3 = 21\n",
            "7 x 4 = 28\n",
            "7 x 6 = 42\n",
            "7 x 7 = 49\n",
            "7 x 8 = 56\n",
            "7 x 9 = 63\n",
            "7 x 10 = 70\n"
          ]
        }
      ]
    },
    {
      "cell_type": "code",
      "source": [
        ""
      ],
      "metadata": {
        "id": "Ck2EEqa3zSPb"
      },
      "execution_count": null,
      "outputs": []
    }
  ]
}